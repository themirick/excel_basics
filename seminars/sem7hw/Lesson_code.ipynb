{
 "cells": [
  {
   "cell_type": "markdown",
   "id": "140fba5a",
   "metadata": {
    "tags": []
   },
   "source": [
    "<h1 align=\"center\">🐍 Python + Excel</h1>\n",
    "\n",
    "Мы будем использовать библиотеку **`xlwings`** для подключения к рабочей книге Excel.\n",
    "<br><br>\n",
    "**Xlwings** — это API Python с открытым исходным кодом для управления форматом файлов Excel. Используя API, вы можете автоматизировать Excel из Python для создания отчетов, написания UDF (пользовательских функций), написания макросов и удаленного управления Excel.\n",
    "\n",
    "    🔗 Ссылка на документацию: https://docs.xlwings.org/en/stable/index.html\n",
    "\n",
    "\n",
    "**GitHub ExcelPython:** https://github.com/ericremoreynolds/excelpython/blob/master/README.md\n",
    "\n",
    "    ExcelPython интегрирован в xlwings! В дальнейшем ExcelPython больше не будет активно поддерживаться, и дальнейшая разработка будет осуществляться в контексте xlwings.\n",
    "\n",
    "**GitHub xlwings:** https://github.com/xlwings/xlwings\n",
    "\n",
    "**Сайт продукта:** https://www.xlwings.org/"
   ]
  },
  {
   "cell_type": "markdown",
   "id": "780eac42-44d8-4876-8d41-a6a8b900d32e",
   "metadata": {
    "jp-MarkdownHeadingCollapsed": true,
    "tags": []
   },
   "source": [
    "## 🐣 Теоретический минимум по Python\n",
    "\n",
    "1. Области видимости переменных.\n",
    "\n",
    "    https://www.youtube.com/watch?v=TacyWpUF1Kk&ab_channel=selfedu\n",
    "\n",
    "\n",
    "2. Замыкания в Python\n",
    "\n",
    "    https://www.youtube.com/watch?v=sJF7OMNgLUs&ab_channel=selfedu\n",
    "\n",
    "3. Введение в декораторы функций\n",
    "\n",
    "    https://www.youtube.com/watch?v=v0qZPplzwUQ&t=321s&ab_channel=selfedu\n",
    "\n",
    "4. Типизация\n",
    "\n",
    "    https://youtu.be/dKxiHlZvULQ\n",
    "\n",
    "5. TypeAlias\n",
    "\n",
    "    https://youtu.be/xdRroK3WwJg"
   ]
  },
  {
   "cell_type": "markdown",
   "id": "f2db95ca-3e08-4e86-9610-d6d582fdd940",
   "metadata": {
    "tags": []
   },
   "source": [
    "## ➕ Доп материал\n",
    "\n",
    "1. Машинное обучение в Excel при помощи Python и PyXLL:\n",
    "\n",
    "    https://habr.com/ru/companies/skillfactory/articles/569520/\n",
    "\n",
    "2. Случайно наткнулся, но полезно:\n",
    "\n",
    "    https://proglib.io/p/paketnyy-api-obedinenie-zaprosov-s-pomoshchyu-asyncio-i-batch-api-2023-03-23\n",
    "\n",
    "3. Если не понятно что такое потоки и как это работает, то сюда:\n",
    "\n",
    "    https://youtu.be/JIp14T9bvvc\n",
    "\n",
    "4. OpenPyXL – это библиотека, используемая для чтения и записи файлов Excel 2010 xlsx/xlsm/xltx/xltm.\n",
    "\n",
    "    https://docs-python.ru/packages/modul-openpyxl/\n",
    "    \n",
    "https://www.xlslim.com/en-us/blogs/news/pyxll"
   ]
  },
  {
   "cell_type": "markdown",
   "id": "5cfda490",
   "metadata": {},
   "source": [
    "<h1 style=\"color:#008B8B\">1. Установка</h1>\n",
    "\n",
    "https://docs.xlwings.org/en/stable/addin.html#xlwings-addin\n",
    "\n",
    "**1. Установить Python 3.10.\\***\n",
    "\n",
    "* https://www.python.org/downloads/windows/ \n",
    "\n",
    "* Я использую Python 3.10.11\n",
    "\n",
    "**2. Создание venv**\n",
    "\n",
    "* ```python -m venv venv```\n",
    "\n",
    "* Как вариант, можно использовать Poetry: https://youtu.be/KOC0Gbo_0HY\n",
    "\n",
    "**2.1 Активация venv**\n",
    "\n",
    "* Чтобы начать пользоваться виртуальным окружением, необходимо его активировать:\n",
    "\n",
    "* ```venv\\Scripts\\activate.bat```  - для Windows;\n",
    "\n",
    "* ```source venv/bin/activate``` - для Linux и MacOS;\n",
    "\n",
    "* https://pythonchik.ru/okruzhenie-i-pakety/virtualnoe-okruzhenie-python-venv\n",
    "\n",
    "**3. Установка пакета и надстройки**\n",
    "\n",
    "* Предварительно стоит убедиться, что виртуальное окружение было активировано!\n",
    "\n",
    "* https://docs.xlwings.org/en/stable/installation.html\n",
    "\n",
    "* ```pip install xlwings```\n",
    "\n",
    "* Enable Trust access to the VBA project object model under File > Options > Trust Center > Trust Center Settings > Macro Settings. You only need to do this once. Also, this is only required for importing the functions, i.e. end users won’t need to bother about this.\n",
    "\n",
    "\n",
    "* ```xlwings addin install```\n",
    "\n",
    "* ```xlwings quickstart titanic```"
   ]
  },
  {
   "cell_type": "markdown",
   "id": "5eb9cf70-024e-446a-9301-64a40e77d71e",
   "metadata": {},
   "source": [
    "# `(venv) C:\\Users\\bimas\\OneDrive\\Desktop\\Excel>`"
   ]
  },
  {
   "cell_type": "markdown",
   "id": "183ca48c",
   "metadata": {},
   "source": [
    "<h1 style=\"color:#008B8B\">2. Работа с данными. Возможности библиотеки</h1>\n",
    "\n",
    "https://www.kaggle.com/competitions/titanic/data"
   ]
  },
  {
   "cell_type": "code",
   "execution_count": 1,
   "id": "d5e674b8-9de5-4c16-8305-08819f7d3d22",
   "metadata": {},
   "outputs": [
    {
     "name": "stdout",
     "output_type": "stream",
     "text": [
      "Requirement already satisfied: pandas in g:\\programming\\excel_basics\\seminars\\sem7hw\\venv\\lib\\site-packages (2.1.4)\n",
      "Requirement already satisfied: numpy<2,>=1.26.0 in g:\\programming\\excel_basics\\seminars\\sem7hw\\venv\\lib\\site-packages (from pandas) (1.26.2)\n",
      "Requirement already satisfied: python-dateutil>=2.8.2 in g:\\programming\\excel_basics\\seminars\\sem7hw\\venv\\lib\\site-packages (from pandas) (2.8.2)\n",
      "Requirement already satisfied: pytz>=2020.1 in g:\\programming\\excel_basics\\seminars\\sem7hw\\venv\\lib\\site-packages (from pandas) (2023.3.post1)\n",
      "Requirement already satisfied: tzdata>=2022.1 in g:\\programming\\excel_basics\\seminars\\sem7hw\\venv\\lib\\site-packages (from pandas) (2023.3)\n",
      "Requirement already satisfied: six>=1.5 in g:\\programming\\excel_basics\\seminars\\sem7hw\\venv\\lib\\site-packages (from python-dateutil>=2.8.2->pandas) (1.16.0)\n"
     ]
    }
   ],
   "source": [
    "!pip install pandas"
   ]
  },
  {
   "cell_type": "code",
   "execution_count": 2,
   "id": "f356b192",
   "metadata": {
    "tags": []
   },
   "outputs": [],
   "source": [
    "import xlwings as xw\n",
    "import pandas as pd"
   ]
  },
  {
   "cell_type": "code",
   "execution_count": 3,
   "id": "39b807fb",
   "metadata": {
    "tags": []
   },
   "outputs": [
    {
     "name": "stdout",
     "output_type": "stream",
     "text": [
      " Volume in drive G has no label.\n",
      " Volume Serial Number is E05A-0CB6\n",
      "\n",
      " Directory of G:\\Programming\\excel_basics\\seminars\\sem7hw\n",
      "\n",
      "01/10/2024  12:42 AM    <DIR>          .\n",
      "12/20/2023  10:04 PM    <DIR>          ..\n",
      "01/10/2024  03:10 PM    <DIR>          .idea\n",
      "12/20/2023  10:53 PM    <DIR>          .ipynb_checkpoints\n",
      "01/10/2024  12:41 AM           403,588 automate_excel_with_python.xlsx\n",
      "01/10/2024  12:42 AM            69,079 Lesson_code.ipynb\n",
      "01/10/2024  12:24 AM         2,195,693 MyPDF.pdf\n",
      "12/20/2023  11:17 PM                14 test.py\n",
      "12/20/2023  11:18 PM             6,561 test_file.xlsx\n",
      "01/10/2024  12:46 AM    <DIR>          titanic\n",
      "12/20/2023  11:17 PM    <DIR>          venv\n",
      "               5 File(s)      2,674,935 bytes\n",
      "               6 Dir(s)  363,155,320,832 bytes free\n"
     ]
    }
   ],
   "source": [
    "!dir"
   ]
  },
  {
   "cell_type": "markdown",
   "id": "dc8c1665",
   "metadata": {},
   "source": [
    "# 2.1 Работа с книгами"
   ]
  },
  {
   "cell_type": "markdown",
   "id": "f89b9e3e-ac60-48bb-b23a-2baaf1485424",
   "metadata": {},
   "source": [
    "|  | xw.Book |\n",
    "| :- | :- |\n",
    "| New Book | xw.Book() |\n",
    "| Unsaved book | xw.Book('Book1') |\n",
    "| Book by (full)name | xw.Book(r'C:/path/to/file.xlsx')|\n"
   ]
  },
  {
   "cell_type": "code",
   "execution_count": 7,
   "id": "5c7c932a-7c89-43f8-aa73-348cf53b2edb",
   "metadata": {
    "tags": []
   },
   "outputs": [
    {
     "data": {
      "text/plain": [
       "['train', 'empty sheet3', 'empty sheet', '_xlwings.conf']"
      ]
     },
     "execution_count": 7,
     "metadata": {},
     "output_type": "execute_result"
    }
   ],
   "source": [
    "# Создание объекта книги\n",
    "wb = xw.Book(\"titanic/titanic.xlsm\")\n",
    "wb.sheet_names"
   ]
  },
  {
   "cell_type": "code",
   "execution_count": 6,
   "id": "7e66f7fb-c482-4d0e-86ce-da6f99b7c13b",
   "metadata": {
    "tags": []
   },
   "outputs": [],
   "source": [
    "# Закрыть рабочую книгу\n",
    "# wb.close()"
   ]
  },
  {
   "cell_type": "markdown",
   "id": "8145c4fc-e906-459e-9a22-d5bc67b422e6",
   "metadata": {},
   "source": [
    "# 2.2 Листы книги"
   ]
  },
  {
   "cell_type": "code",
   "execution_count": 8,
   "id": "d11cc319-7866-42ed-89eb-d61516957e13",
   "metadata": {
    "tags": []
   },
   "outputs": [
    {
     "ename": "ValueError",
     "evalue": "Sheet named 'empty sheet3' already present in workbook",
     "output_type": "error",
     "traceback": [
      "\u001b[1;31m---------------------------------------------------------------------------\u001b[0m",
      "\u001b[1;31mValueError\u001b[0m                                Traceback (most recent call last)",
      "Cell \u001b[1;32mIn[8], line 2\u001b[0m\n\u001b[0;32m      1\u001b[0m \u001b[38;5;66;03m# Добавим новый лист\u001b[39;00m\n\u001b[1;32m----> 2\u001b[0m sht1 \u001b[38;5;241m=\u001b[39m \u001b[43mwb\u001b[49m\u001b[38;5;241;43m.\u001b[39;49m\u001b[43msheets\u001b[49m\u001b[38;5;241;43m.\u001b[39;49m\u001b[43madd\u001b[49m\u001b[43m(\u001b[49m\u001b[43mname\u001b[49m\u001b[38;5;241;43m=\u001b[39;49m\u001b[38;5;124;43m'\u001b[39;49m\u001b[38;5;124;43mempty sheet3\u001b[39;49m\u001b[38;5;124;43m'\u001b[39;49m\u001b[43m,\u001b[49m\u001b[43m \u001b[49m\u001b[43mafter\u001b[49m\u001b[38;5;241;43m=\u001b[39;49m\u001b[43mwb\u001b[49m\u001b[38;5;241;43m.\u001b[39;49m\u001b[43msheets\u001b[49m\u001b[43m[\u001b[49m\u001b[38;5;241;43m0\u001b[39;49m\u001b[43m]\u001b[49m\u001b[38;5;241;43m.\u001b[39;49m\u001b[43mname\u001b[49m\u001b[43m)\u001b[49m\n",
      "File \u001b[1;32mG:\\Programming\\excel_basics\\seminars\\sem7hw\\venv\\Lib\\site-packages\\xlwings\\main.py:5136\u001b[0m, in \u001b[0;36mSheets.add\u001b[1;34m(self, name, before, after)\u001b[0m\n\u001b[0;32m   5134\u001b[0m \u001b[38;5;28;01mif\u001b[39;00m name \u001b[38;5;129;01mis\u001b[39;00m \u001b[38;5;129;01mnot\u001b[39;00m \u001b[38;5;28;01mNone\u001b[39;00m:\n\u001b[0;32m   5135\u001b[0m     \u001b[38;5;28;01mif\u001b[39;00m name\u001b[38;5;241m.\u001b[39mlower() \u001b[38;5;129;01min\u001b[39;00m (s\u001b[38;5;241m.\u001b[39mname\u001b[38;5;241m.\u001b[39mlower() \u001b[38;5;28;01mfor\u001b[39;00m s \u001b[38;5;129;01min\u001b[39;00m \u001b[38;5;28mself\u001b[39m):\n\u001b[1;32m-> 5136\u001b[0m         \u001b[38;5;28;01mraise\u001b[39;00m \u001b[38;5;167;01mValueError\u001b[39;00m(\u001b[38;5;124m\"\u001b[39m\u001b[38;5;124mSheet named \u001b[39m\u001b[38;5;124m'\u001b[39m\u001b[38;5;132;01m%s\u001b[39;00m\u001b[38;5;124m'\u001b[39m\u001b[38;5;124m already present in workbook\u001b[39m\u001b[38;5;124m\"\u001b[39m \u001b[38;5;241m%\u001b[39m name)\n\u001b[0;32m   5137\u001b[0m \u001b[38;5;28;01mif\u001b[39;00m before \u001b[38;5;129;01mis\u001b[39;00m \u001b[38;5;129;01mnot\u001b[39;00m \u001b[38;5;28;01mNone\u001b[39;00m \u001b[38;5;129;01mand\u001b[39;00m \u001b[38;5;129;01mnot\u001b[39;00m \u001b[38;5;28misinstance\u001b[39m(before, Sheet):\n\u001b[0;32m   5138\u001b[0m     before \u001b[38;5;241m=\u001b[39m \u001b[38;5;28mself\u001b[39m(before)\n",
      "\u001b[1;31mValueError\u001b[0m: Sheet named 'empty sheet3' already present in workbook"
     ]
    }
   ],
   "source": [
    "# Добавим новый лист\n",
    "sht1 = wb.sheets.add(name='empty sheet3', after=wb.sheets[0].name)"
   ]
  },
  {
   "cell_type": "code",
   "execution_count": 9,
   "id": "e162b749-7e34-44b7-b4a3-c441546dfbc3",
   "metadata": {
    "tags": []
   },
   "outputs": [
    {
     "data": {
      "text/plain": [
       "[['PassengerId',\n",
       "  'Survived',\n",
       "  'Pclass',\n",
       "  'Name',\n",
       "  'Sex',\n",
       "  'Age',\n",
       "  'SibSp',\n",
       "  'Parch',\n",
       "  'Ticket',\n",
       "  'Fare',\n",
       "  'Cabin',\n",
       "  'Embarked'],\n",
       " [1.0,\n",
       "  0.0,\n",
       "  3.0,\n",
       "  'Braund, Mr. Owen Harris',\n",
       "  'male',\n",
       "  22.0,\n",
       "  1.0,\n",
       "  0.0,\n",
       "  'A/5 21171',\n",
       "  7.25,\n",
       "  None,\n",
       "  'S']]"
      ]
     },
     "execution_count": 9,
     "metadata": {},
     "output_type": "execute_result"
    }
   ],
   "source": [
    "# Получение занчений из диапазона\n",
    "# в options указать expand=\"table\" - автоматически считает диапозон\n",
    "wb.sheets['train'].range(\"A1:L892\").value[:1]\n",
    "wb.sheets[0].range(\"A1:L892\").value[:2]"
   ]
  },
  {
   "cell_type": "code",
   "execution_count": 10,
   "id": "ceb70578",
   "metadata": {
    "tags": []
   },
   "outputs": [
    {
     "data": {
      "text/plain": [
       "[[1.0,\n",
       "  0.0,\n",
       "  3.0,\n",
       "  'Braund, Mr. Owen Harris',\n",
       "  'male',\n",
       "  22.0,\n",
       "  1.0,\n",
       "  0.0,\n",
       "  'A/5 21171',\n",
       "  7.25,\n",
       "  None,\n",
       "  'S']]"
      ]
     },
     "execution_count": 10,
     "metadata": {},
     "output_type": "execute_result"
    }
   ],
   "source": [
    "# Обращение к таблице/именованному диапазону листа\n",
    "wb.sheets[0]['train'].value[:1]\n",
    "# wb.sheets[0].range('train').value[:1]"
   ]
  },
  {
   "cell_type": "code",
   "execution_count": 5,
   "id": "82be1e3f-7675-45f0-80a3-b68f5d010d89",
   "metadata": {
    "tags": []
   },
   "outputs": [],
   "source": [
    "# Запись данных в ячейку A1\n",
    "from random import randint\n",
    "wb.sheets[1].range(\"A1\").value = randint(1, 10)"
   ]
  },
  {
   "cell_type": "code",
   "execution_count": 9,
   "id": "04d79d00-c7d0-4d2f-9d9d-4da505c9ca83",
   "metadata": {
    "tags": []
   },
   "outputs": [
    {
     "data": {
      "text/plain": [
       "4"
      ]
     },
     "execution_count": 9,
     "metadata": {},
     "output_type": "execute_result"
    }
   ],
   "source": [
    "# Количество листов\n",
    "wb.sheets.count"
   ]
  },
  {
   "cell_type": "code",
   "execution_count": 10,
   "id": "a7944d57-b3ee-4f3c-a9ca-0cd09110cc28",
   "metadata": {
    "tags": []
   },
   "outputs": [
    {
     "data": {
      "text/plain": [
       "<Sheet [titanic.xlsm]empty sheet3>"
      ]
     },
     "execution_count": 10,
     "metadata": {},
     "output_type": "execute_result"
    }
   ],
   "source": [
    "# Получить активный лист\n",
    "wb.sheets.active"
   ]
  },
  {
   "cell_type": "markdown",
   "id": "76c1fbd8",
   "metadata": {},
   "source": [
    "# 2.3 Загрузка/выгрузка данных"
   ]
  },
  {
   "cell_type": "markdown",
   "id": "7693b4a6-6d4e-4451-89c6-d803d4f1000c",
   "metadata": {},
   "source": [
    "https://docs.xlwings.org/en/latest/converters.html"
   ]
  },
  {
   "cell_type": "code",
   "execution_count": 11,
   "id": "22488967",
   "metadata": {
    "tags": []
   },
   "outputs": [
    {
     "name": "stderr",
     "output_type": "stream",
     "text": [
      "C:\\Users\\mirsoat\\AppData\\Local\\Temp\\ipykernel_7596\\2642758402.py:1: FutureWarning: The behavior of obj[i:j] with a float-dtype index is deprecated. In a future version, this will be treated as positional instead of label-based. For label-based slicing, use obj.loc[i:j] instead\n",
      "  wb.sheets[0].range(\"A1\").expand().options(pd.DataFrame).value[:2]\n"
     ]
    },
    {
     "data": {
      "text/html": [
       "<div>\n",
       "<style scoped>\n",
       "    .dataframe tbody tr th:only-of-type {\n",
       "        vertical-align: middle;\n",
       "    }\n",
       "\n",
       "    .dataframe tbody tr th {\n",
       "        vertical-align: top;\n",
       "    }\n",
       "\n",
       "    .dataframe thead th {\n",
       "        text-align: right;\n",
       "    }\n",
       "</style>\n",
       "<table border=\"1\" class=\"dataframe\">\n",
       "  <thead>\n",
       "    <tr style=\"text-align: right;\">\n",
       "      <th></th>\n",
       "      <th>Survived</th>\n",
       "      <th>Pclass</th>\n",
       "      <th>Name</th>\n",
       "      <th>Sex</th>\n",
       "      <th>Age</th>\n",
       "      <th>SibSp</th>\n",
       "      <th>Parch</th>\n",
       "      <th>Ticket</th>\n",
       "      <th>Fare</th>\n",
       "      <th>Cabin</th>\n",
       "      <th>Embarked</th>\n",
       "    </tr>\n",
       "    <tr>\n",
       "      <th>PassengerId</th>\n",
       "      <th></th>\n",
       "      <th></th>\n",
       "      <th></th>\n",
       "      <th></th>\n",
       "      <th></th>\n",
       "      <th></th>\n",
       "      <th></th>\n",
       "      <th></th>\n",
       "      <th></th>\n",
       "      <th></th>\n",
       "      <th></th>\n",
       "    </tr>\n",
       "  </thead>\n",
       "  <tbody>\n",
       "    <tr>\n",
       "      <th>1.0</th>\n",
       "      <td>0.0</td>\n",
       "      <td>3.0</td>\n",
       "      <td>Braund, Mr. Owen Harris</td>\n",
       "      <td>male</td>\n",
       "      <td>22.0</td>\n",
       "      <td>1.0</td>\n",
       "      <td>0.0</td>\n",
       "      <td>A/5 21171</td>\n",
       "      <td>7.2500</td>\n",
       "      <td>None</td>\n",
       "      <td>S</td>\n",
       "    </tr>\n",
       "    <tr>\n",
       "      <th>2.0</th>\n",
       "      <td>1.0</td>\n",
       "      <td>1.0</td>\n",
       "      <td>Cumings, Mrs. John Bradley (Florence Briggs Th...</td>\n",
       "      <td>female</td>\n",
       "      <td>38.0</td>\n",
       "      <td>1.0</td>\n",
       "      <td>0.0</td>\n",
       "      <td>PC 17599</td>\n",
       "      <td>71.2833</td>\n",
       "      <td>C85</td>\n",
       "      <td>C</td>\n",
       "    </tr>\n",
       "  </tbody>\n",
       "</table>\n",
       "</div>"
      ],
      "text/plain": [
       "             Survived  Pclass  \\\n",
       "PassengerId                     \n",
       "1.0               0.0     3.0   \n",
       "2.0               1.0     1.0   \n",
       "\n",
       "                                                          Name     Sex   Age  \\\n",
       "PassengerId                                                                    \n",
       "1.0                                    Braund, Mr. Owen Harris    male  22.0   \n",
       "2.0          Cumings, Mrs. John Bradley (Florence Briggs Th...  female  38.0   \n",
       "\n",
       "             SibSp  Parch     Ticket     Fare Cabin Embarked  \n",
       "PassengerId                                                   \n",
       "1.0            1.0    0.0  A/5 21171   7.2500  None        S  \n",
       "2.0            1.0    0.0   PC 17599  71.2833   C85        C  "
      ]
     },
     "execution_count": 11,
     "metadata": {},
     "output_type": "execute_result"
    }
   ],
   "source": [
    "wb.sheets[0].range(\"A1\").expand().options(pd.DataFrame).value[:2]"
   ]
  },
  {
   "cell_type": "markdown",
   "id": "1244948c-a900-49ec-a5bc-d498fa2b766c",
   "metadata": {},
   "source": [
    "`pd.read_excel()`\n",
    "\n",
    "https://pandas.pydata.org/docs/reference/api/pandas.read_csv.html"
   ]
  },
  {
   "cell_type": "code",
   "execution_count": 16,
   "id": "3e92d1ff",
   "metadata": {
    "tags": []
   },
   "outputs": [
    {
     "data": {
      "text/html": [
       "<div>\n",
       "<style scoped>\n",
       "    .dataframe tbody tr th:only-of-type {\n",
       "        vertical-align: middle;\n",
       "    }\n",
       "\n",
       "    .dataframe tbody tr th {\n",
       "        vertical-align: top;\n",
       "    }\n",
       "\n",
       "    .dataframe thead th {\n",
       "        text-align: right;\n",
       "    }\n",
       "</style>\n",
       "<table border=\"1\" class=\"dataframe\">\n",
       "  <thead>\n",
       "    <tr style=\"text-align: right;\">\n",
       "      <th></th>\n",
       "      <th>PassengerId</th>\n",
       "      <th>Survived</th>\n",
       "      <th>Pclass</th>\n",
       "      <th>Name</th>\n",
       "      <th>Sex</th>\n",
       "      <th>Age</th>\n",
       "      <th>SibSp</th>\n",
       "      <th>Parch</th>\n",
       "      <th>Ticket</th>\n",
       "      <th>Fare</th>\n",
       "      <th>Cabin</th>\n",
       "      <th>Embarked</th>\n",
       "    </tr>\n",
       "  </thead>\n",
       "  <tbody>\n",
       "    <tr>\n",
       "      <th>0</th>\n",
       "      <td>1</td>\n",
       "      <td>0</td>\n",
       "      <td>3</td>\n",
       "      <td>Braund, Mr. Owen Harris</td>\n",
       "      <td>male</td>\n",
       "      <td>22.0</td>\n",
       "      <td>1</td>\n",
       "      <td>0</td>\n",
       "      <td>A/5 21171</td>\n",
       "      <td>7.2500</td>\n",
       "      <td>NaN</td>\n",
       "      <td>S</td>\n",
       "    </tr>\n",
       "    <tr>\n",
       "      <th>1</th>\n",
       "      <td>2</td>\n",
       "      <td>1</td>\n",
       "      <td>1</td>\n",
       "      <td>Cumings, Mrs. John Bradley (Florence Briggs Th...</td>\n",
       "      <td>female</td>\n",
       "      <td>38.0</td>\n",
       "      <td>1</td>\n",
       "      <td>0</td>\n",
       "      <td>PC 17599</td>\n",
       "      <td>71.2833</td>\n",
       "      <td>C85</td>\n",
       "      <td>C</td>\n",
       "    </tr>\n",
       "  </tbody>\n",
       "</table>\n",
       "</div>"
      ],
      "text/plain": [
       "   PassengerId  Survived  Pclass  \\\n",
       "0            1         0       3   \n",
       "1            2         1       1   \n",
       "\n",
       "                                                Name     Sex   Age  SibSp  \\\n",
       "0                            Braund, Mr. Owen Harris    male  22.0      1   \n",
       "1  Cumings, Mrs. John Bradley (Florence Briggs Th...  female  38.0      1   \n",
       "\n",
       "   Parch     Ticket     Fare Cabin Embarked  \n",
       "0      0  A/5 21171   7.2500   NaN        S  \n",
       "1      0   PC 17599  71.2833   C85        C  "
      ]
     },
     "execution_count": 16,
     "metadata": {},
     "output_type": "execute_result"
    }
   ],
   "source": [
    "df = pd.read_csv(\"titanic/train.csv\")\n",
    "df.head(n=2)"
   ]
  },
  {
   "cell_type": "markdown",
   "id": "fc51946d-6ad5-4cf4-9df3-86b4d61c1d0a",
   "metadata": {
    "tags": []
   },
   "source": [
    "`pd.read_excel()`\n",
    "\n",
    "https://pandas.pydata.org/docs/reference/api/pandas.read_excel.html?highlight=read_excel#pandas.read_excel"
   ]
  },
  {
   "cell_type": "code",
   "execution_count": 13,
   "id": "f3049c22-9cea-423d-b82c-5ea663128ef1",
   "metadata": {},
   "outputs": [
    {
     "name": "stdout",
     "output_type": "stream",
     "text": [
      "Requirement already satisfied: openpyxl in g:\\programming\\excel_basics\\seminars\\sem7hw\\venv\\lib\\site-packages (3.1.2)\n",
      "Requirement already satisfied: et-xmlfile in g:\\programming\\excel_basics\\seminars\\sem7hw\\venv\\lib\\site-packages (from openpyxl) (1.1.0)\n"
     ]
    }
   ],
   "source": [
    "!pip install openpyxl"
   ]
  },
  {
   "cell_type": "code",
   "execution_count": 73,
   "id": "8304f31c",
   "metadata": {},
   "outputs": [
    {
     "data": {
      "text/html": [
       "<div>\n",
       "<style scoped>\n",
       "    .dataframe tbody tr th:only-of-type {\n",
       "        vertical-align: middle;\n",
       "    }\n",
       "\n",
       "    .dataframe tbody tr th {\n",
       "        vertical-align: top;\n",
       "    }\n",
       "\n",
       "    .dataframe thead th {\n",
       "        text-align: right;\n",
       "    }\n",
       "</style>\n",
       "<table border=\"1\" class=\"dataframe\">\n",
       "  <thead>\n",
       "    <tr style=\"text-align: right;\">\n",
       "      <th></th>\n",
       "      <th>PassengerId</th>\n",
       "      <th>Survived</th>\n",
       "      <th>Pclass</th>\n",
       "      <th>Name</th>\n",
       "      <th>Sex</th>\n",
       "      <th>Age</th>\n",
       "      <th>SibSp</th>\n",
       "      <th>Parch</th>\n",
       "      <th>Ticket</th>\n",
       "      <th>Fare</th>\n",
       "      <th>Cabin</th>\n",
       "      <th>Embarked</th>\n",
       "    </tr>\n",
       "  </thead>\n",
       "  <tbody>\n",
       "    <tr>\n",
       "      <th>0</th>\n",
       "      <td>1</td>\n",
       "      <td>0</td>\n",
       "      <td>3</td>\n",
       "      <td>Braund, Mr. Owen Harris</td>\n",
       "      <td>male</td>\n",
       "      <td>22.0</td>\n",
       "      <td>1</td>\n",
       "      <td>0</td>\n",
       "      <td>A/5 21171</td>\n",
       "      <td>7.2500</td>\n",
       "      <td>NaN</td>\n",
       "      <td>S</td>\n",
       "    </tr>\n",
       "    <tr>\n",
       "      <th>1</th>\n",
       "      <td>2</td>\n",
       "      <td>1</td>\n",
       "      <td>1</td>\n",
       "      <td>Cumings, Mrs. John Bradley (Florence Briggs Th...</td>\n",
       "      <td>female</td>\n",
       "      <td>38.0</td>\n",
       "      <td>1</td>\n",
       "      <td>0</td>\n",
       "      <td>PC 17599</td>\n",
       "      <td>71.2833</td>\n",
       "      <td>C85</td>\n",
       "      <td>C</td>\n",
       "    </tr>\n",
       "  </tbody>\n",
       "</table>\n",
       "</div>"
      ],
      "text/plain": [
       "   PassengerId  Survived  Pclass  \\\n",
       "0            1         0       3   \n",
       "1            2         1       1   \n",
       "\n",
       "                                                Name     Sex   Age  SibSp  \\\n",
       "0                            Braund, Mr. Owen Harris    male  22.0      1   \n",
       "1  Cumings, Mrs. John Bradley (Florence Briggs Th...  female  38.0      1   \n",
       "\n",
       "   Parch     Ticket     Fare Cabin Embarked  \n",
       "0      0  A/5 21171   7.2500   NaN        S  \n",
       "1      0   PC 17599  71.2833   C85        C  "
      ]
     },
     "execution_count": 73,
     "metadata": {},
     "output_type": "execute_result"
    }
   ],
   "source": [
    "df = pd.read_excel(\"titanic/titanic.xlsm\", sheet_name=\"train\")\n",
    "df.head(n=2)"
   ]
  },
  {
   "cell_type": "markdown",
   "id": "68326021-0dbd-4c68-86ea-3ace521e0004",
   "metadata": {},
   "source": [
    "# 2.4 Formatter\n",
    "\n",
    "https://docs.xlwings.org/en/latest/converters.html"
   ]
  },
  {
   "cell_type": "code",
   "execution_count": 14,
   "id": "62b65cf4-fd0b-4ed4-b405-8910ff3a3112",
   "metadata": {
    "tags": []
   },
   "outputs": [],
   "source": [
    "def table(rng: xw.Range, df: pd.DataFrame):\n",
    "    \"\"\"This is the formatter function\"\"\"\n",
    "    # Header\n",
    "    rng[0, :].color = \"#A9D08E\"\n",
    "\n",
    "    # Rows\n",
    "    for ix, row in enumerate(rng.rows[1:]):\n",
    "        if ix % 2 == 0:\n",
    "            row.color = \"#D0CECE\"  # Even rows\n",
    "\n",
    "    # Columns\n",
    "    for ix, col in enumerate(df.columns):\n",
    "        if \"two\" in col:\n",
    "            rng[1:, ix].number_format = \"0,00%\"\n",
    "\n",
    "\n",
    "    for ix, col in enumerate(df.columns):\n",
    "        if \"three\" in col:\n",
    "            rng[1:, ix].number_format = \"d/m/yyy\"\n",
    "\n",
    "            \n",
    "df = pd.DataFrame(data={\"one\": [1, 2, 3, 4], \"two\": [5, 6, 7, 8], \"three\": [15, 16, 17, 18]})\n",
    "wb.sheets[1][\"A1\"].options(formatter=table, index=False).value = df"
   ]
  },
  {
   "cell_type": "code",
   "execution_count": 27,
   "id": "40874150-1527-4301-be45-7e5c9e9063c2",
   "metadata": {},
   "outputs": [
    {
     "data": {
      "text/html": [
       "<div>\n",
       "<style scoped>\n",
       "    .dataframe tbody tr th:only-of-type {\n",
       "        vertical-align: middle;\n",
       "    }\n",
       "\n",
       "    .dataframe tbody tr th {\n",
       "        vertical-align: top;\n",
       "    }\n",
       "\n",
       "    .dataframe thead th {\n",
       "        text-align: right;\n",
       "    }\n",
       "</style>\n",
       "<table border=\"1\" class=\"dataframe\">\n",
       "  <thead>\n",
       "    <tr style=\"text-align: right;\">\n",
       "      <th></th>\n",
       "      <th>PassengerId</th>\n",
       "      <th>Survived</th>\n",
       "      <th>Pclass</th>\n",
       "      <th>Name</th>\n",
       "      <th>Sex</th>\n",
       "      <th>Age</th>\n",
       "      <th>SibSp</th>\n",
       "      <th>Parch</th>\n",
       "      <th>Ticket</th>\n",
       "      <th>Fare</th>\n",
       "      <th>Cabin</th>\n",
       "      <th>Embarked</th>\n",
       "    </tr>\n",
       "  </thead>\n",
       "  <tbody>\n",
       "    <tr>\n",
       "      <th>0</th>\n",
       "      <td>1</td>\n",
       "      <td>0</td>\n",
       "      <td>3</td>\n",
       "      <td>Braund, Mr. Owen Harris</td>\n",
       "      <td>male</td>\n",
       "      <td>22.0</td>\n",
       "      <td>1</td>\n",
       "      <td>0</td>\n",
       "      <td>A/5 21171</td>\n",
       "      <td>7.2500</td>\n",
       "      <td>NaN</td>\n",
       "      <td>S</td>\n",
       "    </tr>\n",
       "    <tr>\n",
       "      <th>1</th>\n",
       "      <td>2</td>\n",
       "      <td>1</td>\n",
       "      <td>1</td>\n",
       "      <td>Cumings, Mrs. John Bradley (Florence Briggs Th...</td>\n",
       "      <td>female</td>\n",
       "      <td>38.0</td>\n",
       "      <td>1</td>\n",
       "      <td>0</td>\n",
       "      <td>PC 17599</td>\n",
       "      <td>71.2833</td>\n",
       "      <td>C85</td>\n",
       "      <td>C</td>\n",
       "    </tr>\n",
       "    <tr>\n",
       "      <th>2</th>\n",
       "      <td>3</td>\n",
       "      <td>1</td>\n",
       "      <td>3</td>\n",
       "      <td>Heikkinen, Miss. Laina</td>\n",
       "      <td>female</td>\n",
       "      <td>26.0</td>\n",
       "      <td>0</td>\n",
       "      <td>0</td>\n",
       "      <td>STON/O2. 3101282</td>\n",
       "      <td>7.9250</td>\n",
       "      <td>NaN</td>\n",
       "      <td>S</td>\n",
       "    </tr>\n",
       "    <tr>\n",
       "      <th>3</th>\n",
       "      <td>4</td>\n",
       "      <td>1</td>\n",
       "      <td>1</td>\n",
       "      <td>Futrelle, Mrs. Jacques Heath (Lily May Peel)</td>\n",
       "      <td>female</td>\n",
       "      <td>35.0</td>\n",
       "      <td>1</td>\n",
       "      <td>0</td>\n",
       "      <td>113803</td>\n",
       "      <td>53.1000</td>\n",
       "      <td>C123</td>\n",
       "      <td>S</td>\n",
       "    </tr>\n",
       "    <tr>\n",
       "      <th>4</th>\n",
       "      <td>5</td>\n",
       "      <td>0</td>\n",
       "      <td>3</td>\n",
       "      <td>Allen, Mr. William Henry</td>\n",
       "      <td>male</td>\n",
       "      <td>35.0</td>\n",
       "      <td>0</td>\n",
       "      <td>0</td>\n",
       "      <td>373450</td>\n",
       "      <td>8.0500</td>\n",
       "      <td>NaN</td>\n",
       "      <td>S</td>\n",
       "    </tr>\n",
       "    <tr>\n",
       "      <th>...</th>\n",
       "      <td>...</td>\n",
       "      <td>...</td>\n",
       "      <td>...</td>\n",
       "      <td>...</td>\n",
       "      <td>...</td>\n",
       "      <td>...</td>\n",
       "      <td>...</td>\n",
       "      <td>...</td>\n",
       "      <td>...</td>\n",
       "      <td>...</td>\n",
       "      <td>...</td>\n",
       "      <td>...</td>\n",
       "    </tr>\n",
       "    <tr>\n",
       "      <th>886</th>\n",
       "      <td>887</td>\n",
       "      <td>0</td>\n",
       "      <td>2</td>\n",
       "      <td>Montvila, Rev. Juozas</td>\n",
       "      <td>male</td>\n",
       "      <td>27.0</td>\n",
       "      <td>0</td>\n",
       "      <td>0</td>\n",
       "      <td>211536</td>\n",
       "      <td>13.0000</td>\n",
       "      <td>NaN</td>\n",
       "      <td>S</td>\n",
       "    </tr>\n",
       "    <tr>\n",
       "      <th>887</th>\n",
       "      <td>888</td>\n",
       "      <td>1</td>\n",
       "      <td>1</td>\n",
       "      <td>Graham, Miss. Margaret Edith</td>\n",
       "      <td>female</td>\n",
       "      <td>19.0</td>\n",
       "      <td>0</td>\n",
       "      <td>0</td>\n",
       "      <td>112053</td>\n",
       "      <td>30.0000</td>\n",
       "      <td>B42</td>\n",
       "      <td>S</td>\n",
       "    </tr>\n",
       "    <tr>\n",
       "      <th>888</th>\n",
       "      <td>889</td>\n",
       "      <td>0</td>\n",
       "      <td>3</td>\n",
       "      <td>Johnston, Miss. Catherine Helen \"Carrie\"</td>\n",
       "      <td>female</td>\n",
       "      <td>NaN</td>\n",
       "      <td>1</td>\n",
       "      <td>2</td>\n",
       "      <td>W./C. 6607</td>\n",
       "      <td>23.4500</td>\n",
       "      <td>NaN</td>\n",
       "      <td>S</td>\n",
       "    </tr>\n",
       "    <tr>\n",
       "      <th>889</th>\n",
       "      <td>890</td>\n",
       "      <td>1</td>\n",
       "      <td>1</td>\n",
       "      <td>Behr, Mr. Karl Howell</td>\n",
       "      <td>male</td>\n",
       "      <td>26.0</td>\n",
       "      <td>0</td>\n",
       "      <td>0</td>\n",
       "      <td>111369</td>\n",
       "      <td>30.0000</td>\n",
       "      <td>C148</td>\n",
       "      <td>C</td>\n",
       "    </tr>\n",
       "    <tr>\n",
       "      <th>890</th>\n",
       "      <td>891</td>\n",
       "      <td>0</td>\n",
       "      <td>3</td>\n",
       "      <td>Dooley, Mr. Patrick</td>\n",
       "      <td>male</td>\n",
       "      <td>32.0</td>\n",
       "      <td>0</td>\n",
       "      <td>0</td>\n",
       "      <td>370376</td>\n",
       "      <td>7.7500</td>\n",
       "      <td>NaN</td>\n",
       "      <td>Q</td>\n",
       "    </tr>\n",
       "  </tbody>\n",
       "</table>\n",
       "<p>891 rows × 12 columns</p>\n",
       "</div>"
      ],
      "text/plain": [
       "     PassengerId  Survived  Pclass  \\\n",
       "0              1         0       3   \n",
       "1              2         1       1   \n",
       "2              3         1       3   \n",
       "3              4         1       1   \n",
       "4              5         0       3   \n",
       "..           ...       ...     ...   \n",
       "886          887         0       2   \n",
       "887          888         1       1   \n",
       "888          889         0       3   \n",
       "889          890         1       1   \n",
       "890          891         0       3   \n",
       "\n",
       "                                                  Name     Sex   Age  SibSp  \\\n",
       "0                              Braund, Mr. Owen Harris    male  22.0      1   \n",
       "1    Cumings, Mrs. John Bradley (Florence Briggs Th...  female  38.0      1   \n",
       "2                               Heikkinen, Miss. Laina  female  26.0      0   \n",
       "3         Futrelle, Mrs. Jacques Heath (Lily May Peel)  female  35.0      1   \n",
       "4                             Allen, Mr. William Henry    male  35.0      0   \n",
       "..                                                 ...     ...   ...    ...   \n",
       "886                              Montvila, Rev. Juozas    male  27.0      0   \n",
       "887                       Graham, Miss. Margaret Edith  female  19.0      0   \n",
       "888           Johnston, Miss. Catherine Helen \"Carrie\"  female   NaN      1   \n",
       "889                              Behr, Mr. Karl Howell    male  26.0      0   \n",
       "890                                Dooley, Mr. Patrick    male  32.0      0   \n",
       "\n",
       "     Parch            Ticket     Fare Cabin Embarked  \n",
       "0        0         A/5 21171   7.2500   NaN        S  \n",
       "1        0          PC 17599  71.2833   C85        C  \n",
       "2        0  STON/O2. 3101282   7.9250   NaN        S  \n",
       "3        0            113803  53.1000  C123        S  \n",
       "4        0            373450   8.0500   NaN        S  \n",
       "..     ...               ...      ...   ...      ...  \n",
       "886      0            211536  13.0000   NaN        S  \n",
       "887      0            112053  30.0000   B42        S  \n",
       "888      2        W./C. 6607  23.4500   NaN        S  \n",
       "889      0            111369  30.0000  C148        C  \n",
       "890      0            370376   7.7500   NaN        Q  \n",
       "\n",
       "[891 rows x 12 columns]"
      ]
     },
     "execution_count": 27,
     "metadata": {},
     "output_type": "execute_result"
    }
   ],
   "source": [
    "df"
   ]
  },
  {
   "cell_type": "markdown",
   "id": "80cd6f73",
   "metadata": {},
   "source": [
    "# 2.5 View и Load"
   ]
  },
  {
   "cell_type": "code",
   "execution_count": 80,
   "id": "c47685f9-a5f0-4035-8914-93ccd8a3fe53",
   "metadata": {
    "tags": []
   },
   "outputs": [],
   "source": [
    "# Запись в новую книгу\n",
    "xw.view(df)"
   ]
  },
  {
   "cell_type": "code",
   "execution_count": 28,
   "id": "34e1623d-291d-419c-8f2f-1c2b65c1e05c",
   "metadata": {
    "tags": []
   },
   "outputs": [],
   "source": [
    "# Запись в определённый лист\n",
    "xw.view(df, sheet=wb.sheets[2])"
   ]
  },
  {
   "cell_type": "code",
   "execution_count": 29,
   "id": "48637cac-93dc-47a5-89ad-1b1c82ef48f2",
   "metadata": {
    "tags": []
   },
   "outputs": [],
   "source": [
    "# Загрузите выбранные данные в pandas dataframe \n",
    "load_df = xw.load()"
   ]
  },
  {
   "cell_type": "code",
   "execution_count": 30,
   "id": "c73f63a0-ba38-4254-9a8d-f6195ba70abe",
   "metadata": {
    "tags": []
   },
   "outputs": [
    {
     "data": {
      "text/html": [
       "<div>\n",
       "<style scoped>\n",
       "    .dataframe tbody tr th:only-of-type {\n",
       "        vertical-align: middle;\n",
       "    }\n",
       "\n",
       "    .dataframe tbody tr th {\n",
       "        vertical-align: top;\n",
       "    }\n",
       "\n",
       "    .dataframe thead th {\n",
       "        text-align: right;\n",
       "    }\n",
       "</style>\n",
       "<table border=\"1\" class=\"dataframe\">\n",
       "  <thead>\n",
       "    <tr style=\"text-align: right;\">\n",
       "      <th></th>\n",
       "      <th>PassengerId</th>\n",
       "      <th>Survived</th>\n",
       "      <th>Pclass</th>\n",
       "      <th>Name</th>\n",
       "      <th>Sex</th>\n",
       "      <th>Age</th>\n",
       "      <th>SibSp</th>\n",
       "      <th>Parch</th>\n",
       "      <th>Ticket</th>\n",
       "      <th>Fare</th>\n",
       "      <th>Cabin</th>\n",
       "      <th>Embarked</th>\n",
       "    </tr>\n",
       "    <tr>\n",
       "      <th></th>\n",
       "      <th></th>\n",
       "      <th></th>\n",
       "      <th></th>\n",
       "      <th></th>\n",
       "      <th></th>\n",
       "      <th></th>\n",
       "      <th></th>\n",
       "      <th></th>\n",
       "      <th></th>\n",
       "      <th></th>\n",
       "      <th></th>\n",
       "      <th></th>\n",
       "    </tr>\n",
       "  </thead>\n",
       "  <tbody>\n",
       "    <tr>\n",
       "      <th>0.0</th>\n",
       "      <td>NaN</td>\n",
       "      <td>NaN</td>\n",
       "      <td>NaN</td>\n",
       "      <td>None</td>\n",
       "      <td>None</td>\n",
       "      <td>NaN</td>\n",
       "      <td>NaN</td>\n",
       "      <td>NaN</td>\n",
       "      <td>None</td>\n",
       "      <td>NaN</td>\n",
       "      <td>None</td>\n",
       "      <td>None</td>\n",
       "    </tr>\n",
       "    <tr>\n",
       "      <th>1.0</th>\n",
       "      <td>2.0</td>\n",
       "      <td>1.0</td>\n",
       "      <td>1.0</td>\n",
       "      <td>Cumings, Mrs. John Bradley (Florence Briggs Th...</td>\n",
       "      <td>female</td>\n",
       "      <td>38.0</td>\n",
       "      <td>1.0</td>\n",
       "      <td>0.0</td>\n",
       "      <td>PC 17599</td>\n",
       "      <td>71.2833</td>\n",
       "      <td>C85</td>\n",
       "      <td>C</td>\n",
       "    </tr>\n",
       "    <tr>\n",
       "      <th>2.0</th>\n",
       "      <td>3.0</td>\n",
       "      <td>1.0</td>\n",
       "      <td>3.0</td>\n",
       "      <td>Heikkinen, Miss. Laina</td>\n",
       "      <td>female</td>\n",
       "      <td>26.0</td>\n",
       "      <td>0.0</td>\n",
       "      <td>0.0</td>\n",
       "      <td>STON/O2. 3101282</td>\n",
       "      <td>7.9250</td>\n",
       "      <td>None</td>\n",
       "      <td>S</td>\n",
       "    </tr>\n",
       "    <tr>\n",
       "      <th>3.0</th>\n",
       "      <td>4.0</td>\n",
       "      <td>1.0</td>\n",
       "      <td>1.0</td>\n",
       "      <td>Futrelle, Mrs. Jacques Heath (Lily May Peel)</td>\n",
       "      <td>female</td>\n",
       "      <td>35.0</td>\n",
       "      <td>1.0</td>\n",
       "      <td>0.0</td>\n",
       "      <td>113803.0</td>\n",
       "      <td>53.1000</td>\n",
       "      <td>C123</td>\n",
       "      <td>S</td>\n",
       "    </tr>\n",
       "  </tbody>\n",
       "</table>\n",
       "</div>"
      ],
      "text/plain": [
       "     PassengerId  Survived  Pclass  \\\n",
       "                                     \n",
       "0.0          NaN       NaN     NaN   \n",
       "1.0          2.0       1.0     1.0   \n",
       "2.0          3.0       1.0     3.0   \n",
       "3.0          4.0       1.0     1.0   \n",
       "\n",
       "                                                  Name     Sex   Age  SibSp  \\\n",
       "                                                                              \n",
       "0.0                                               None    None   NaN    NaN   \n",
       "1.0  Cumings, Mrs. John Bradley (Florence Briggs Th...  female  38.0    1.0   \n",
       "2.0                             Heikkinen, Miss. Laina  female  26.0    0.0   \n",
       "3.0       Futrelle, Mrs. Jacques Heath (Lily May Peel)  female  35.0    1.0   \n",
       "\n",
       "     Parch            Ticket     Fare Cabin Embarked  \n",
       "                                                      \n",
       "0.0    NaN              None      NaN  None     None  \n",
       "1.0    0.0          PC 17599  71.2833   C85        C  \n",
       "2.0    0.0  STON/O2. 3101282   7.9250  None        S  \n",
       "3.0    0.0          113803.0  53.1000  C123        S  "
      ]
     },
     "execution_count": 30,
     "metadata": {},
     "output_type": "execute_result"
    }
   ],
   "source": [
    "load_df.head(n=4)"
   ]
  },
  {
   "cell_type": "code",
   "execution_count": 31,
   "id": "846c6aa5-5c30-411c-81ed-8cb514ddf18f",
   "metadata": {
    "tags": []
   },
   "outputs": [
    {
     "name": "stdout",
     "output_type": "stream",
     "text": [
      "True\n"
     ]
    }
   ],
   "source": [
    "print(type(df) == type(load_df))\n",
    "del load_df"
   ]
  },
  {
   "cell_type": "markdown",
   "id": "01c4bcf4-88bb-45f0-9519-6bcc005f99af",
   "metadata": {},
   "source": [
    "# 2.6 Примеры "
   ]
  },
  {
   "cell_type": "code",
   "execution_count": 36,
   "id": "df7b0dbf-dbeb-436c-8f03-ec97f3b89217",
   "metadata": {
    "tags": []
   },
   "outputs": [
    {
     "data": {
      "text/plain": [
       "['PassengerId', None, 2.0]"
      ]
     },
     "execution_count": 36,
     "metadata": {},
     "output_type": "execute_result"
    }
   ],
   "source": [
    "# Чтение данных из диапазона\n",
    "wb.sheets[2].range('B1:B3').value"
   ]
  },
  {
   "cell_type": "code",
   "execution_count": 38,
   "id": "d06e6fb0-67ab-4acd-a8e0-da0ca1152cba",
   "metadata": {
    "tags": []
   },
   "outputs": [],
   "source": [
    "# Insert Formula\n",
    "wb.sheets[2].range('B1:B3').formula = \"=A1+A10\""
   ]
  },
  {
   "cell_type": "code",
   "execution_count": 39,
   "id": "236da81f-b764-420f-bfdf-836da1f1d7be",
   "metadata": {},
   "outputs": [],
   "source": [
    "# Создание именованных диапазонов\n",
    "wb.sheets[2].range(\"B1:B3\").name = \"Новый_диапазон\""
   ]
  },
  {
   "cell_type": "code",
   "execution_count": 40,
   "id": "c5688dfc-db0c-4c1a-a3aa-7fb38f59cb7f",
   "metadata": {
    "tags": []
   },
   "outputs": [],
   "source": [
    "# Запись с транспонированием\n",
    "wb.sheets[1].range('B1:B3').options(transpose=False).value = [10, 20, 404]"
   ]
  },
  {
   "cell_type": "code",
   "execution_count": 42,
   "id": "81dc2588-3c9e-457e-adf5-d2f35b6cee3a",
   "metadata": {
    "tags": []
   },
   "outputs": [
    {
     "data": {
      "text/plain": [
       "[10.0, 20.0, 404.0]"
      ]
     },
     "execution_count": 42,
     "metadata": {},
     "output_type": "execute_result"
    }
   ],
   "source": [
    "# Зададим размерность 1\n",
    "wb.sheets[1].range(\"B1:B3\").options(ndim=1).value"
   ]
  },
  {
   "cell_type": "code",
   "execution_count": 43,
   "id": "a18397cf-aa37-437e-8d1d-048bcc260b55",
   "metadata": {
    "tags": []
   },
   "outputs": [
    {
     "data": {
      "text/plain": [
       "[['0'], [9.0], [11.0]]"
      ]
     },
     "execution_count": 43,
     "metadata": {},
     "output_type": "execute_result"
    }
   ],
   "source": [
    "# Зададим размерность 2\n",
    "wb.sheets[2].range(\"B1:B3\").options(ndim=2).value"
   ]
  },
  {
   "cell_type": "code",
   "execution_count": 87,
   "id": "7e6f3a03-5431-4711-8a00-c0eb477c9f24",
   "metadata": {
    "tags": []
   },
   "outputs": [
    {
     "data": {
      "text/plain": [
       "'MyPDF'"
      ]
     },
     "execution_count": 87,
     "metadata": {},
     "output_type": "execute_result"
    }
   ],
   "source": [
    "# Сохранение данных\n",
    "wb.to_pdf('MyPDF')"
   ]
  },
  {
   "cell_type": "markdown",
   "id": "8fbe6e2d",
   "metadata": {},
   "source": [
    "Уникальное количество семейных отношений для класса билета:"
   ]
  },
  {
   "cell_type": "code",
   "execution_count": 46,
   "id": "fe3d9d23-5df6-46b1-a602-8bf8871b449d",
   "metadata": {},
   "outputs": [
    {
     "data": {
      "text/html": [
       "<div>\n",
       "<style scoped>\n",
       "    .dataframe tbody tr th:only-of-type {\n",
       "        vertical-align: middle;\n",
       "    }\n",
       "\n",
       "    .dataframe tbody tr th {\n",
       "        vertical-align: top;\n",
       "    }\n",
       "\n",
       "    .dataframe thead th {\n",
       "        text-align: right;\n",
       "    }\n",
       "</style>\n",
       "<table border=\"1\" class=\"dataframe\">\n",
       "  <thead>\n",
       "    <tr style=\"text-align: right;\">\n",
       "      <th></th>\n",
       "      <th>PassengerId</th>\n",
       "      <th>Survived</th>\n",
       "      <th>Pclass</th>\n",
       "      <th>Name</th>\n",
       "      <th>Sex</th>\n",
       "      <th>Age</th>\n",
       "      <th>SibSp</th>\n",
       "      <th>Parch</th>\n",
       "      <th>Ticket</th>\n",
       "      <th>Fare</th>\n",
       "      <th>Cabin</th>\n",
       "      <th>Embarked</th>\n",
       "    </tr>\n",
       "  </thead>\n",
       "  <tbody>\n",
       "    <tr>\n",
       "      <th>0</th>\n",
       "      <td>1</td>\n",
       "      <td>0</td>\n",
       "      <td>3</td>\n",
       "      <td>Braund, Mr. Owen Harris</td>\n",
       "      <td>male</td>\n",
       "      <td>22.0</td>\n",
       "      <td>1</td>\n",
       "      <td>0</td>\n",
       "      <td>A/5 21171</td>\n",
       "      <td>7.2500</td>\n",
       "      <td>NaN</td>\n",
       "      <td>S</td>\n",
       "    </tr>\n",
       "    <tr>\n",
       "      <th>1</th>\n",
       "      <td>2</td>\n",
       "      <td>1</td>\n",
       "      <td>1</td>\n",
       "      <td>Cumings, Mrs. John Bradley (Florence Briggs Th...</td>\n",
       "      <td>female</td>\n",
       "      <td>38.0</td>\n",
       "      <td>1</td>\n",
       "      <td>0</td>\n",
       "      <td>PC 17599</td>\n",
       "      <td>71.2833</td>\n",
       "      <td>C85</td>\n",
       "      <td>C</td>\n",
       "    </tr>\n",
       "    <tr>\n",
       "      <th>2</th>\n",
       "      <td>3</td>\n",
       "      <td>1</td>\n",
       "      <td>3</td>\n",
       "      <td>Heikkinen, Miss. Laina</td>\n",
       "      <td>female</td>\n",
       "      <td>26.0</td>\n",
       "      <td>0</td>\n",
       "      <td>0</td>\n",
       "      <td>STON/O2. 3101282</td>\n",
       "      <td>7.9250</td>\n",
       "      <td>NaN</td>\n",
       "      <td>S</td>\n",
       "    </tr>\n",
       "    <tr>\n",
       "      <th>3</th>\n",
       "      <td>4</td>\n",
       "      <td>1</td>\n",
       "      <td>1</td>\n",
       "      <td>Futrelle, Mrs. Jacques Heath (Lily May Peel)</td>\n",
       "      <td>female</td>\n",
       "      <td>35.0</td>\n",
       "      <td>1</td>\n",
       "      <td>0</td>\n",
       "      <td>113803</td>\n",
       "      <td>53.1000</td>\n",
       "      <td>C123</td>\n",
       "      <td>S</td>\n",
       "    </tr>\n",
       "    <tr>\n",
       "      <th>4</th>\n",
       "      <td>5</td>\n",
       "      <td>0</td>\n",
       "      <td>3</td>\n",
       "      <td>Allen, Mr. William Henry</td>\n",
       "      <td>male</td>\n",
       "      <td>35.0</td>\n",
       "      <td>0</td>\n",
       "      <td>0</td>\n",
       "      <td>373450</td>\n",
       "      <td>8.0500</td>\n",
       "      <td>NaN</td>\n",
       "      <td>S</td>\n",
       "    </tr>\n",
       "    <tr>\n",
       "      <th>...</th>\n",
       "      <td>...</td>\n",
       "      <td>...</td>\n",
       "      <td>...</td>\n",
       "      <td>...</td>\n",
       "      <td>...</td>\n",
       "      <td>...</td>\n",
       "      <td>...</td>\n",
       "      <td>...</td>\n",
       "      <td>...</td>\n",
       "      <td>...</td>\n",
       "      <td>...</td>\n",
       "      <td>...</td>\n",
       "    </tr>\n",
       "    <tr>\n",
       "      <th>886</th>\n",
       "      <td>887</td>\n",
       "      <td>0</td>\n",
       "      <td>2</td>\n",
       "      <td>Montvila, Rev. Juozas</td>\n",
       "      <td>male</td>\n",
       "      <td>27.0</td>\n",
       "      <td>0</td>\n",
       "      <td>0</td>\n",
       "      <td>211536</td>\n",
       "      <td>13.0000</td>\n",
       "      <td>NaN</td>\n",
       "      <td>S</td>\n",
       "    </tr>\n",
       "    <tr>\n",
       "      <th>887</th>\n",
       "      <td>888</td>\n",
       "      <td>1</td>\n",
       "      <td>1</td>\n",
       "      <td>Graham, Miss. Margaret Edith</td>\n",
       "      <td>female</td>\n",
       "      <td>19.0</td>\n",
       "      <td>0</td>\n",
       "      <td>0</td>\n",
       "      <td>112053</td>\n",
       "      <td>30.0000</td>\n",
       "      <td>B42</td>\n",
       "      <td>S</td>\n",
       "    </tr>\n",
       "    <tr>\n",
       "      <th>888</th>\n",
       "      <td>889</td>\n",
       "      <td>0</td>\n",
       "      <td>3</td>\n",
       "      <td>Johnston, Miss. Catherine Helen \"Carrie\"</td>\n",
       "      <td>female</td>\n",
       "      <td>NaN</td>\n",
       "      <td>1</td>\n",
       "      <td>2</td>\n",
       "      <td>W./C. 6607</td>\n",
       "      <td>23.4500</td>\n",
       "      <td>NaN</td>\n",
       "      <td>S</td>\n",
       "    </tr>\n",
       "    <tr>\n",
       "      <th>889</th>\n",
       "      <td>890</td>\n",
       "      <td>1</td>\n",
       "      <td>1</td>\n",
       "      <td>Behr, Mr. Karl Howell</td>\n",
       "      <td>male</td>\n",
       "      <td>26.0</td>\n",
       "      <td>0</td>\n",
       "      <td>0</td>\n",
       "      <td>111369</td>\n",
       "      <td>30.0000</td>\n",
       "      <td>C148</td>\n",
       "      <td>C</td>\n",
       "    </tr>\n",
       "    <tr>\n",
       "      <th>890</th>\n",
       "      <td>891</td>\n",
       "      <td>0</td>\n",
       "      <td>3</td>\n",
       "      <td>Dooley, Mr. Patrick</td>\n",
       "      <td>male</td>\n",
       "      <td>32.0</td>\n",
       "      <td>0</td>\n",
       "      <td>0</td>\n",
       "      <td>370376</td>\n",
       "      <td>7.7500</td>\n",
       "      <td>NaN</td>\n",
       "      <td>Q</td>\n",
       "    </tr>\n",
       "  </tbody>\n",
       "</table>\n",
       "<p>891 rows × 12 columns</p>\n",
       "</div>"
      ],
      "text/plain": [
       "     PassengerId  Survived  Pclass   \n",
       "0              1         0       3  \\\n",
       "1              2         1       1   \n",
       "2              3         1       3   \n",
       "3              4         1       1   \n",
       "4              5         0       3   \n",
       "..           ...       ...     ...   \n",
       "886          887         0       2   \n",
       "887          888         1       1   \n",
       "888          889         0       3   \n",
       "889          890         1       1   \n",
       "890          891         0       3   \n",
       "\n",
       "                                                  Name     Sex   Age  SibSp   \n",
       "0                              Braund, Mr. Owen Harris    male  22.0      1  \\\n",
       "1    Cumings, Mrs. John Bradley (Florence Briggs Th...  female  38.0      1   \n",
       "2                               Heikkinen, Miss. Laina  female  26.0      0   \n",
       "3         Futrelle, Mrs. Jacques Heath (Lily May Peel)  female  35.0      1   \n",
       "4                             Allen, Mr. William Henry    male  35.0      0   \n",
       "..                                                 ...     ...   ...    ...   \n",
       "886                              Montvila, Rev. Juozas    male  27.0      0   \n",
       "887                       Graham, Miss. Margaret Edith  female  19.0      0   \n",
       "888           Johnston, Miss. Catherine Helen \"Carrie\"  female   NaN      1   \n",
       "889                              Behr, Mr. Karl Howell    male  26.0      0   \n",
       "890                                Dooley, Mr. Patrick    male  32.0      0   \n",
       "\n",
       "     Parch            Ticket     Fare Cabin Embarked  \n",
       "0        0         A/5 21171   7.2500   NaN        S  \n",
       "1        0          PC 17599  71.2833   C85        C  \n",
       "2        0  STON/O2. 3101282   7.9250   NaN        S  \n",
       "3        0            113803  53.1000  C123        S  \n",
       "4        0            373450   8.0500   NaN        S  \n",
       "..     ...               ...      ...   ...      ...  \n",
       "886      0            211536  13.0000   NaN        S  \n",
       "887      0            112053  30.0000   B42        S  \n",
       "888      2        W./C. 6607  23.4500   NaN        S  \n",
       "889      0            111369  30.0000  C148        C  \n",
       "890      0            370376   7.7500   NaN        Q  \n",
       "\n",
       "[891 rows x 12 columns]"
      ]
     },
     "execution_count": 46,
     "metadata": {},
     "output_type": "execute_result"
    }
   ],
   "source": [
    "df"
   ]
  },
  {
   "cell_type": "code",
   "execution_count": 40,
   "id": "7bdd9c2e",
   "metadata": {},
   "outputs": [
    {
     "data": {
      "text/html": [
       "<div>\n",
       "<style scoped>\n",
       "    .dataframe tbody tr th:only-of-type {\n",
       "        vertical-align: middle;\n",
       "    }\n",
       "\n",
       "    .dataframe tbody tr th {\n",
       "        vertical-align: top;\n",
       "    }\n",
       "\n",
       "    .dataframe thead th {\n",
       "        text-align: right;\n",
       "    }\n",
       "</style>\n",
       "<table border=\"1\" class=\"dataframe\">\n",
       "  <thead>\n",
       "    <tr style=\"text-align: right;\">\n",
       "      <th></th>\n",
       "      <th>SibSp</th>\n",
       "    </tr>\n",
       "    <tr>\n",
       "      <th>Pclass</th>\n",
       "      <th></th>\n",
       "    </tr>\n",
       "  </thead>\n",
       "  <tbody>\n",
       "    <tr>\n",
       "      <th>1</th>\n",
       "      <td>4</td>\n",
       "    </tr>\n",
       "    <tr>\n",
       "      <th>2</th>\n",
       "      <td>4</td>\n",
       "    </tr>\n",
       "    <tr>\n",
       "      <th>3</th>\n",
       "      <td>7</td>\n",
       "    </tr>\n",
       "  </tbody>\n",
       "</table>\n",
       "</div>"
      ],
      "text/plain": [
       "        SibSp\n",
       "Pclass       \n",
       "1           4\n",
       "2           4\n",
       "3           7"
      ]
     },
     "execution_count": 40,
     "metadata": {},
     "output_type": "execute_result"
    }
   ],
   "source": [
    "df.pivot_table(index='Pclass', aggfunc={'SibSp': 'nunique'})"
   ]
  },
  {
   "cell_type": "code",
   "execution_count": 88,
   "id": "ab9a3815",
   "metadata": {},
   "outputs": [],
   "source": [
    "wb.sheets[1].range(\"A1\").options(index=True).value = df.pivot_table(index='Pclass', aggfunc={'SibSp': 'nunique'})"
   ]
  },
  {
   "cell_type": "markdown",
   "id": "8a71ee62",
   "metadata": {},
   "source": [
    "# 2.7 Графики\n",
    "\n",
    "https://docs.xlwings.org/en/stable/matplotlib.html"
   ]
  },
  {
   "cell_type": "code",
   "execution_count": 41,
   "id": "6081ae2d-9ec8-4d57-af60-7b56d1cf514b",
   "metadata": {},
   "outputs": [
    {
     "name": "stdout",
     "output_type": "stream",
     "text": [
      "Requirement already satisfied: seaborn in g:\\programming\\excel_basics\\seminars\\sem7hw\\venv\\lib\\site-packages (0.13.1)\n",
      "Requirement already satisfied: numpy!=1.24.0,>=1.20 in g:\\programming\\excel_basics\\seminars\\sem7hw\\venv\\lib\\site-packages (from seaborn) (1.26.2)\n",
      "Requirement already satisfied: pandas>=1.2 in g:\\programming\\excel_basics\\seminars\\sem7hw\\venv\\lib\\site-packages (from seaborn) (2.1.4)\n",
      "Requirement already satisfied: matplotlib!=3.6.1,>=3.4 in g:\\programming\\excel_basics\\seminars\\sem7hw\\venv\\lib\\site-packages (from seaborn) (3.8.2)\n",
      "Requirement already satisfied: contourpy>=1.0.1 in g:\\programming\\excel_basics\\seminars\\sem7hw\\venv\\lib\\site-packages (from matplotlib!=3.6.1,>=3.4->seaborn) (1.2.0)\n",
      "Requirement already satisfied: cycler>=0.10 in g:\\programming\\excel_basics\\seminars\\sem7hw\\venv\\lib\\site-packages (from matplotlib!=3.6.1,>=3.4->seaborn) (0.12.1)\n",
      "Requirement already satisfied: fonttools>=4.22.0 in g:\\programming\\excel_basics\\seminars\\sem7hw\\venv\\lib\\site-packages (from matplotlib!=3.6.1,>=3.4->seaborn) (4.47.0)\n",
      "Requirement already satisfied: kiwisolver>=1.3.1 in g:\\programming\\excel_basics\\seminars\\sem7hw\\venv\\lib\\site-packages (from matplotlib!=3.6.1,>=3.4->seaborn) (1.4.5)\n",
      "Requirement already satisfied: packaging>=20.0 in g:\\programming\\excel_basics\\seminars\\sem7hw\\venv\\lib\\site-packages (from matplotlib!=3.6.1,>=3.4->seaborn) (23.2)\n",
      "Requirement already satisfied: pillow>=8 in g:\\programming\\excel_basics\\seminars\\sem7hw\\venv\\lib\\site-packages (from matplotlib!=3.6.1,>=3.4->seaborn) (10.2.0)\n",
      "Requirement already satisfied: pyparsing>=2.3.1 in g:\\programming\\excel_basics\\seminars\\sem7hw\\venv\\lib\\site-packages (from matplotlib!=3.6.1,>=3.4->seaborn) (3.1.1)\n",
      "Requirement already satisfied: python-dateutil>=2.7 in g:\\programming\\excel_basics\\seminars\\sem7hw\\venv\\lib\\site-packages (from matplotlib!=3.6.1,>=3.4->seaborn) (2.8.2)\n",
      "Requirement already satisfied: pytz>=2020.1 in g:\\programming\\excel_basics\\seminars\\sem7hw\\venv\\lib\\site-packages (from pandas>=1.2->seaborn) (2023.3.post1)\n",
      "Requirement already satisfied: tzdata>=2022.1 in g:\\programming\\excel_basics\\seminars\\sem7hw\\venv\\lib\\site-packages (from pandas>=1.2->seaborn) (2023.3)\n",
      "Requirement already satisfied: six>=1.5 in g:\\programming\\excel_basics\\seminars\\sem7hw\\venv\\lib\\site-packages (from python-dateutil>=2.7->matplotlib!=3.6.1,>=3.4->seaborn) (1.16.0)\n"
     ]
    }
   ],
   "source": [
    "!pip install seaborn"
   ]
  },
  {
   "cell_type": "markdown",
   "id": "48abd69d-0c31-419f-a915-91491ca080c9",
   "metadata": {},
   "source": [
    "(ОШИБКУ НЕ ИСПРАВИЛ ЕЩЁ)"
   ]
  },
  {
   "cell_type": "code",
   "execution_count": 99,
   "id": "195529a0-e207-4364-9145-69a1890cd9a9",
   "metadata": {},
   "outputs": [
    {
     "ename": "ImportError",
     "evalue": "cannot import name 'Workbook' from 'xlwings' (G:\\Programming\\excel_basics\\seminars\\sem7hw\\venv\\Lib\\site-packages\\xlwings\\__init__.py)",
     "output_type": "error",
     "traceback": [
      "\u001b[1;31m---------------------------------------------------------------------------\u001b[0m",
      "\u001b[1;31mImportError\u001b[0m                               Traceback (most recent call last)",
      "Cell \u001b[1;32mIn[99], line 4\u001b[0m\n\u001b[0;32m      2\u001b[0m \u001b[38;5;28;01mimport\u001b[39;00m \u001b[38;5;21;01mseaborn\u001b[39;00m \u001b[38;5;28;01mas\u001b[39;00m \u001b[38;5;21;01msns\u001b[39;00m\n\u001b[0;32m      3\u001b[0m \u001b[38;5;28;01mimport\u001b[39;00m \u001b[38;5;21;01mpandas\u001b[39;00m \u001b[38;5;28;01mas\u001b[39;00m \u001b[38;5;21;01mpd\u001b[39;00m\n\u001b[1;32m----> 4\u001b[0m \u001b[38;5;28;01mfrom\u001b[39;00m \u001b[38;5;21;01mxlwings\u001b[39;00m \u001b[38;5;28;01mimport\u001b[39;00m Workbook\n\u001b[0;32m      6\u001b[0m \u001b[38;5;66;03m# Пример создания датафрейма (замените это на ваш реальный датафрейм)\u001b[39;00m\n\u001b[0;32m      7\u001b[0m data \u001b[38;5;241m=\u001b[39m {\u001b[38;5;124m'\u001b[39m\u001b[38;5;124mPclass\u001b[39m\u001b[38;5;124m'\u001b[39m: [\u001b[38;5;241m1\u001b[39m, \u001b[38;5;241m2\u001b[39m, \u001b[38;5;241m3\u001b[39m], \u001b[38;5;124m'\u001b[39m\u001b[38;5;124mSurvived\u001b[39m\u001b[38;5;124m'\u001b[39m: [\u001b[38;5;241m0.75\u001b[39m, \u001b[38;5;241m0.5\u001b[39m, \u001b[38;5;241m0.25\u001b[39m]}\n",
      "\u001b[1;31mImportError\u001b[0m: cannot import name 'Workbook' from 'xlwings' (G:\\Programming\\excel_basics\\seminars\\sem7hw\\venv\\Lib\\site-packages\\xlwings\\__init__.py)"
     ]
    }
   ],
   "source": [
    "import matplotlib.pyplot as plt\n",
    "import seaborn as sns\n",
    "import pandas as pd\n",
    "from xlwings import Workbook\n",
    "\n",
    "# Пример создания датафрейма (замените это на ваш реальный датафрейм)\n",
    "data = {'Pclass': [1, 2, 3], 'Survived': [0.75, 0.5, 0.25]}\n",
    "df = pd.DataFrame(data)\n",
    "\n",
    "fig, ax = plt.subplots()\n",
    "sns.barplot(x='Pclass', y='Survived', data=df, ax=ax)\n",
    "ax.set_xlabel('Pclass')\n",
    "ax.set_ylabel('Survived')\n",
    "\n",
    "# Сохраняем график во временный файл (в этом случае в формате PNG)\n",
    "temp_file_path = 'temp_plot.png'\n",
    "fig.savefig(temp_file_path, bbox_inches='tight')\n",
    "\n",
    "# Создаем или получаем рабочую книгу (замените это на ваш реальный код)\n",
    "wb = Workbook()\n",
    "\n",
    "# Предположим, что у вас есть активный лист wb.sheets[0]\n",
    "\n",
    "# Добавление графика в Excel\n",
    "wb.sheets[0].pictures.add(temp_file_path, name='MyPlot', update=True)\n",
    "\n",
    "# Сохранение рабочей книги\n",
    "wb.save('output.xlsx')\n",
    "\n",
    "# Удаляем временный файл\n",
    "import os\n",
    "os.remove(temp_file_path)"
   ]
  },
  {
   "cell_type": "code",
   "execution_count": 42,
   "id": "9c4f10ac",
   "metadata": {},
   "outputs": [],
   "source": [
    "wb.save('automate_excel_with_python.xlsx')\n",
    "wb.close()"
   ]
  },
  {
   "cell_type": "markdown",
   "id": "b1b549a1-45ef-4a93-9d13-7f9cf5466b1f",
   "metadata": {},
   "source": [
    "<h1 style=\"color:#008B8B\">3. Макросы</h1>\n",
    "\n",
    "https://docs.xlwings.org/en/stable/vba.html#run-python"
   ]
  },
  {
   "cell_type": "markdown",
   "id": "fa06f2d8-92be-424f-8210-4f29ea23e357",
   "metadata": {},
   "source": [
    "Создаём новый модуль и добавляем этот код:\n",
    "\n",
    "```C\n",
    "Sub HelloWorld()\n",
    "    RunPython \"import hello; hello.world()\"\n",
    "End Sub\n",
    "```\n",
    "\n",
    "Это вызывает следующий код в hello.py:\n",
    "\n",
    "```Python\n",
    "# hello.py\n",
    "import numpy as np\n",
    "import xlwings as xw\n",
    "\n",
    "\n",
    "def world():\n",
    "    wb = xw.Book.caller()\n",
    "    wb.sheets[0]['A1'].value = 'Hello World!'\n",
    "```"
   ]
  },
  {
   "cell_type": "markdown",
   "id": "0a56cf7a-af77-4420-82b0-846934821940",
   "metadata": {},
   "source": [
    "В Windows, в качестве альтернативы вызову макросов через Run Python, вы также можете использовать декоратор @xw.sub:\n",
    "\n",
    "```python\n",
    "import xlwings as xw\n",
    "\n",
    "\n",
    "@xw.sub\n",
    "def my_macro():\n",
    "    \"\"\"Writes the name of the Workbook into Range(\"A1\") of Sheet 1\"\"\"\n",
    "    wb = xw.Book.caller()\n",
    "    wb.sheets[0].range('A1').value = wb.name\n",
    "```"
   ]
  },
  {
   "cell_type": "markdown",
   "id": "6b2d68e3-5cb6-4768-a349-0fe03bec18a3",
   "metadata": {
    "tags": []
   },
   "source": [
    "<h1 style=\"color:#008B8B\">4. Конфигурирование</h1> (ЭТУ ТЕМУ НЕ УСПЕЛИ РАЗОБРАТЬ, БУДЕТ ЗАПРОС, НАПИШУ ТУТОРИАЛ)\n",
    "\n",
    "У данного инструмента есть возможность использовать его без установки надстройки. То есть, нам достаточно использовать конфигурационные файлы, чтобы использовать возможности библиотеки.\n",
    "\n",
    "`C:\\Users\\your_system_username\\.xlwings\\xlwings.conf`\n",
    "\n",
    "\n",
    "**Как выглядит конфигурационный файл:**\n",
    "\n",
    "```\n",
    "\"ADD_WORKBOOK_TO_PYTHONPATH\",\"False\"\n",
    "\"USE UDF SERVER\",\"False\"\n",
    "\"SHOW CONSOLE\",\"False\"\n",
    "\"INTERPRETER_WIN\",\"D:\\GitHub\\venv\\Scripts\\python.exe\"\n",
    "\"PYTHONPATH\",\"D:\\GitHub\\titanic\"\n",
    "```\n",
    "\n",
    "\n",
    "**1. Удаляем надстройку**\n",
    "\n",
    "`xlwings addin remove`\n",
    "\n",
    "**2. Создаём новый проект**\n",
    "\n",
    "`xlwings quickstart demo_config --standalone`\n",
    "\n",
    "**Как добавить макросы в уже рабочую книгу?**"
   ]
  },
  {
   "cell_type": "code",
   "execution_count": 129,
   "id": "3db3ae68-2032-43dd-a66e-0d46758cad58",
   "metadata": {
    "tags": []
   },
   "outputs": [
    {
     "data": {
      "text/plain": [
       "'D:\\\\GitHub\\\\venv\\\\lib\\\\site-packages\\\\xlwings\\\\__init__.py'"
      ]
     },
     "execution_count": 129,
     "metadata": {},
     "output_type": "execute_result"
    }
   ],
   "source": [
    "xw.__file__"
   ]
  },
  {
   "cell_type": "markdown",
   "id": "4746f50c-1299-499c-b36b-f376d9ecbd5e",
   "metadata": {},
   "source": [
    "Копируем этот кусочек:\n",
    "\n",
    "`D:\\\\GitHub\\\\venv\\\\lib\\\\site-packages\\\\xlwings`"
   ]
  },
  {
   "cell_type": "markdown",
   "id": "1c7dc555-8246-49f3-bb8c-75c46c5289ad",
   "metadata": {},
   "source": [
    "`Dictionary.cls`- macos\n",
    "\n",
    "`xlwings.bas` - windows"
   ]
  },
  {
   "cell_type": "markdown",
   "id": "a58823d9-b8c7-4987-83d8-709900656f56",
   "metadata": {},
   "source": [
    "**Как передать параметры?**\n",
    "\n",
    "https://stackoverflow.com/questions/35606251/how-to-pass-arguments-from-xlwings-to-vba-excel-macro\n",
    "\n",
    "https://stackoverflow.com/questions/34167920/passing-a-variable-from-excel-to-python-with-xlwings\n",
    "\n",
    "**Документация в PDF**\n",
    "\n",
    "https://buildmedia.readthedocs.org/media/pdf/xlwings/stable/xlwings.pdf\n",
    "\n",
    "**Тут можно почитать что-то полезное:**\n",
    "\n",
    "https://www.quora.com/How-does-PyXLL-or-xlwings-of-Python-help-Excel-automation-Is-it-in-terms-of-performance-or-do-we-get-any-additional-features\n",
    "\n",
    "\n",
    "**Хороший код по titanic**\n",
    "\n",
    "https://www.kaggle.com/competitions/titanic/data\n",
    "\n",
    "https://www.kaggle.com/code/brendan45774/titanic-top-solution\n",
    "\n",
    "https://www.kaggle.com/code/ash316/eda-to-prediction-dietanic\n",
    "\n",
    "https://www.kaggle.com/code/gunesevitan/titanic-advanced-feature-engineering-tutorial"
   ]
  },
  {
   "cell_type": "code",
   "execution_count": null,
   "id": "603df100-0550-45a0-9d6a-d37f21f3ce8d",
   "metadata": {},
   "outputs": [],
   "source": []
  }
 ],
 "metadata": {
  "kernelspec": {
   "display_name": "Python 3 (ipykernel)",
   "language": "python",
   "name": "python3"
  },
  "language_info": {
   "codemirror_mode": {
    "name": "ipython",
    "version": 3
   },
   "file_extension": ".py",
   "mimetype": "text/x-python",
   "name": "python",
   "nbconvert_exporter": "python",
   "pygments_lexer": "ipython3",
   "version": "3.12.1"
  }
 },
 "nbformat": 4,
 "nbformat_minor": 5
}
